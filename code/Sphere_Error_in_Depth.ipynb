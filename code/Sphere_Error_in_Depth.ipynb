{
 "cells": [
  {
   "cell_type": "code",
   "execution_count": 1,
   "metadata": {
    "collapsed": true
   },
   "outputs": [],
   "source": [
    "%matplotlib inline\n",
    "import numpy as np\n",
    "import matplotlib.pyplot as plt\n",
    "from mpl_toolkits.axes_grid1 import make_axes_locatable\n",
    "import matplotlib.mlab as mlab"
   ]
  },
  {
   "cell_type": "code",
   "execution_count": 2,
   "metadata": {
    "collapsed": false
   },
   "outputs": [
    {
     "name": "stderr",
     "output_type": "stream",
     "text": [
      "C:\\Anaconda2\\lib\\site-packages\\fatiando\\vis\\mpl.py:70: UserWarning: This module will be removed in v0.6. We recommend the use of matplotlib.pyplot module directly. Some of the fatiando specific functions will remain.\n",
      "  \"specific functions will remain.\")\n"
     ]
    }
   ],
   "source": [
    "from fatiando.vis import mpl\n",
    "from fatiando import mesher, gridder, utils\n",
    "from fatiando.mesher import Sphere\n",
    "from fatiando.gridder import regular\n",
    "from fatiando.gravmag import sphere\n",
    "from fatiando.constants import G, SI2MGAL,SI2EOTVOS"
   ]
  },
  {
   "cell_type": "code",
   "execution_count": 3,
   "metadata": {
    "collapsed": false
   },
   "outputs": [],
   "source": [
    "import auxiliary_functions as af\n"
   ]
  },
  {
   "cell_type": "code",
   "execution_count": 4,
   "metadata": {
    "collapsed": true
   },
   "outputs": [],
   "source": [
    "regular_grid = dict() #empty dictionary\n",
    "\n",
    "regular_grid['area'] = [-1000, 1000, -1000, 1000]\n",
    "regular_grid['shape'] = (100,100)"
   ]
  },
  {
   "cell_type": "code",
   "execution_count": 5,
   "metadata": {
    "collapsed": true
   },
   "outputs": [],
   "source": [
    "#total number of data\n",
    "regular_grid['N'] = regular_grid['shape'][0]*regular_grid['shape'][1]\n",
    "\n",
    "#grid spacing along the y and x directions\n",
    "regular_grid['spacing'] = gridder.spacing(regular_grid['area'], regular_grid['shape'])\n",
    "\n",
    "#element of area used in the numerical integration\n",
    "regular_grid['DS'] = regular_grid['spacing'][0]*regular_grid['spacing'][1]"
   ]
  },
  {
   "cell_type": "code",
   "execution_count": 6,
   "metadata": {
    "collapsed": false
   },
   "outputs": [
    {
     "name": "stdout",
     "output_type": "stream",
     "text": [
      "shape : (100, 100)\n",
      "N : 10000\n",
      "spacing : [20.2020202020202, 20.2020202020202]\n",
      "DS : 408.121620243\n",
      "area : [-1000, 1000, -1000, 1000]\n"
     ]
    }
   ],
   "source": [
    "for r in regular_grid:\n",
    "    print r, ':', regular_grid[r]"
   ]
  },
  {
   "cell_type": "code",
   "execution_count": 7,
   "metadata": {
    "collapsed": false
   },
   "outputs": [],
   "source": [
    "#coordinates x and y of the data\n",
    "xi, yi = regular(regular_grid['area'], regular_grid['shape'])"
   ]
  },
  {
   "cell_type": "code",
   "execution_count": 8,
   "metadata": {
    "collapsed": false
   },
   "outputs": [
    {
     "data": {
      "text/plain": [
       "[<matplotlib.lines.Line2D at 0x7c1af60>]"
      ]
     },
     "execution_count": 8,
     "metadata": {},
     "output_type": "execute_result"
    },
    {
     "data": {
      "image/png": "[encoded data removed]",
      "text/plain": [
       "<matplotlib.figure.Figure at 0x7ad46a0>"
      ]
     },
     "metadata": {},
     "output_type": "display_data"
    }
   ],
   "source": [
    "plt.plot(yi, xi, 'k.', markersize=1)"
   ]
  },
  {
   "cell_type": "code",
   "execution_count": 9,
   "metadata": {
    "collapsed": true
   },
   "outputs": [],
   "source": [
    "# vertical coordinates of the data in a plane\n",
    "#data_heigh = -50.\n",
    "data_heigh  = 0.0\n",
    "\n",
    "zi = np.zeros_like(xi) + data_heigh\n"
   ]
  },
  {
   "cell_type": "code",
   "execution_count": 10,
   "metadata": {
    "collapsed": true
   },
   "outputs": [],
   "source": [
    "assert (xi.size == regular_grid['N']) and (yi.size == regular_grid['N']) and (zi.size == regular_grid['N']),  \\\n",
    "                'xp and yp and zp must have the same size difined by shape'\n"
   ]
  },
  {
   "cell_type": "code",
   "execution_count": 11,
   "metadata": {
    "collapsed": false
   },
   "outputs": [],
   "source": [
    "xk = 0.0\n",
    "yk = 0.0\n",
    "zk = 700.0\n",
    "#radius = 650.0\n",
    "radius = 699.0\n",
    "rho =  600.00\n",
    "model = [Sphere(xk, yk, zk, radius,props={'density':rho})]"
   ]
  },
  {
   "cell_type": "code",
   "execution_count": 12,
   "metadata": {
    "collapsed": false
   },
   "outputs": [],
   "source": [
    "g = sphere.gz(xi,yi,zi,model,dens=None)"
   ]
  },
  {
   "cell_type": "code",
   "execution_count": 13,
   "metadata": {
    "collapsed": false
   },
   "outputs": [
    {
     "data": {
      "text/plain": [
       "(-1000.0, 1000.0, -1000.0, 1000.0)"
      ]
     },
     "execution_count": 13,
     "metadata": {},
     "output_type": "execute_result"
    },
    {
     "data": {
      "image/png": "[encoded data removed]",
      "text/plain": [
       "<matplotlib.figure.Figure at 0x7b1ff98>"
      ]
     },
     "metadata": {},
     "output_type": "display_data"
    }
   ],
   "source": [
    "fig = plt.figure(figsize=(7, 7))\n",
    "ax = plt.gca()\n",
    "plt.xlabel('Easting coordinate y(km)')\n",
    "plt.ylabel('Northing coordinate x(km)')\n",
    "plt.contourf(np.reshape(yi, regular_grid['shape']), np.reshape(xi, regular_grid['shape']), np.reshape(g, regular_grid['shape']),\n",
    "                     20, cmap='Greys')\n",
    "\n",
    "divider = make_axes_locatable(ax)\n",
    "cax = divider.append_axes(\"right\", size=\"5%\", pad=0.1)\n",
    "cbar = plt.colorbar(cax=cax)\n",
    "cbar.set_label('mGal')\n",
    "ax.axis('scaled')"
   ]
  },
  {
   "cell_type": "code",
   "execution_count": 14,
   "metadata": {
    "collapsed": false
   },
   "outputs": [
    {
     "name": "stdout",
     "output_type": "stream",
     "text": [
      "1.02044953272 11.682215004\n"
     ]
    }
   ],
   "source": [
    "print min(g), max(g)\n",
    "max1= max(g)"
   ]
  },
  {
   "cell_type": "code",
   "execution_count": 15,
   "metadata": {
    "collapsed": true
   },
   "outputs": [],
   "source": [
    "xk = 0.0\n",
    "yk = 0.0\n",
    "zk2 = 1550.0\n",
    "#zk2 = 7000.0\n",
    "model2 = [Sphere(xk, yk, zk2, radius,props={'density':rho})]"
   ]
  },
  {
   "cell_type": "code",
   "execution_count": 16,
   "metadata": {
    "collapsed": true
   },
   "outputs": [],
   "source": [
    "g2 = sphere.gz(xi,yi,zi,model2,dens=None)"
   ]
  },
  {
   "cell_type": "code",
   "execution_count": 17,
   "metadata": {
    "collapsed": false
   },
   "outputs": [
    {
     "data": {
      "text/plain": [
       "(-1000.0, 1000.0, -1000.0, 1000.0)"
      ]
     },
     "execution_count": 17,
     "metadata": {},
     "output_type": "execute_result"
    },
    {
     "data": {
      "image/png": "[encoded data removed]",
      "text/plain": [
       "<matplotlib.figure.Figure at 0x80736d8>"
      ]
     },
     "metadata": {},
     "output_type": "display_data"
    }
   ],
   "source": [
    "fig = plt.figure(figsize=(7, 7))\n",
    "ax = plt.gca()\n",
    "plt.xlabel('Easting coordinate y(km)')\n",
    "plt.ylabel('Northing coordinate x(km)')\n",
    "plt.contourf(np.reshape(yi, regular_grid['shape']), np.reshape(xi, regular_grid['shape']), np.reshape(g2, regular_grid['shape']),\n",
    "                     20, cmap='Greys')\n",
    "\n",
    "divider = make_axes_locatable(ax)\n",
    "cax = divider.append_axes(\"right\", size=\"5%\", pad=0.1)\n",
    "cbar = plt.colorbar(cax=cax)\n",
    "cbar.set_label('mGal')\n",
    "ax.axis('scaled')"
   ]
  },
  {
   "cell_type": "code",
   "execution_count": 18,
   "metadata": {
    "collapsed": false
   },
   "outputs": [
    {
     "name": "stdout",
     "output_type": "stream",
     "text": [
      "0.961114574436 2.38382179614\n"
     ]
    }
   ],
   "source": [
    "print min(g2), max(g2)\n",
    "max2 = max(g2)"
   ]
  },
  {
   "cell_type": "code",
   "execution_count": 19,
   "metadata": {
    "collapsed": false
   },
   "outputs": [
    {
     "name": "stdout",
     "output_type": "stream",
     "text": [
      "Maximum of the diference of the gravity: 9.2983932079 mGal\n"
     ]
    }
   ],
   "source": [
    "diff = max1 - max2\n",
    "print 'Maximum of the diference of the gravity:',diff, 'mGal'"
   ]
  },
  {
   "cell_type": "code",
   "execution_count": 20,
   "metadata": {
    "collapsed": false
   },
   "outputs": [
    {
     "name": "stdout",
     "output_type": "stream",
     "text": [
      "Diference of the depth-to-center: 850.0 m\n"
     ]
    }
   ],
   "source": [
    "Error_Depth = zk2 - zk\n",
    "print 'Diference of the depth-to-center:',Error_Depth, 'm'"
   ]
  },
  {
   "cell_type": "markdown",
   "metadata": {},
   "source": [
    "#### Analitical difference of the z-component of the gravity at $x_i, y_i$ and $ z_i$ = 0.0  produced by two spheres whose centers are located at the same horizontal coordinates $x_k, y_k$ = 0.0  and at different depths $ z_1$ and $z_2$ \n",
    "$\\Delta_g{z}= - \\gamma \\: \\: \\dot \\: \\: mass \\: \\: [ {z_1}^3 z_2 - {z_2}^3 z_1 ] /  {z_1}^3 \\dot {z_2}^3 $ \n"
   ]
  },
  {
   "cell_type": "code",
   "execution_count": 21,
   "metadata": {
    "collapsed": false
   },
   "outputs": [
    {
     "name": "stdout",
     "output_type": "stream",
     "text": [
      "mass 8.58363786547e+11\n",
      "Difference of the depth-to-center: 850.0 m\n",
      "Analitical difference of the gravity 9.3053878484 mGal\n"
     ]
    }
   ],
   "source": [
    "mass = rho*4.*np.pi*(radius**3)/3.\n",
    "Delta_g = - mass *G*SI2MGAL * ( (zk**3 * zk2) - (zk2**3*zk))/(zk**3*zk2**3)\n",
    "print 'mass', mass\n",
    "print 'Difference of the depth-to-center:', zk2 - zk, 'm'\n",
    "print 'Analitical difference of the gravity',Delta_g, 'mGal'"
   ]
  }
 ],
 "metadata": {
  "kernelspec": {
   "display_name": "Python 2",
   "language": "python",
   "name": "python2"
  },
  "language_info": {
   "codemirror_mode": {
    "name": "ipython",
    "version": 2
   },
   "file_extension": ".py",
   "mimetype": "text/x-python",
   "name": "python",
   "nbconvert_exporter": "python",
   "pygments_lexer": "ipython2",
   "version": "2.7.13"
  }
 },
 "nbformat": 4,
 "nbformat_minor": 0
}
